{
 "cells": [
  {
   "cell_type": "code",
   "execution_count": 7,
   "metadata": {},
   "outputs": [],
   "source": [
    "import numpy as np\n",
    "import matplotlib.pyplot as plt\n",
    "from matplotlib import animation\n",
    "import os\n",
    "from IPython.display import HTML"
   ]
  },
  {
   "cell_type": "code",
   "execution_count": 2,
   "metadata": {},
   "outputs": [
    {
     "name": "stdout",
     "output_type": "stream",
     "text": [
      "Processing [[0. 0. 0. ... 0. 0. 0.]\n",
      " [0. 0. 0. ... 0. 0. 0.]\n",
      " [0. 0. 0. ... 0. 0. 0.]\n",
      " ...\n",
      " [0. 0. 0. ... 0. 0. 0.]\n",
      " [0. 0. 0. ... 0. 0. 0.]\n",
      " [0. 0. 0. ... 0. 0. 0.]]: shape (243, 207)\n"
     ]
    }
   ],
   "source": [
    "# Load the image from the .npy file\n",
    "image = np.load(\"data/processed/brain_extracted/IMG0001.npy\")\n",
    "print(f\"Processing {image}: shape {image.shape}\")\n"
   ]
  },
  {
   "cell_type": "code",
   "execution_count": 8,
   "metadata": {},
   "outputs": [],
   "source": [
    "import numpy as np\n",
    "import matplotlib.pyplot as plt\n",
    "from matplotlib import animation\n",
    "import os\n",
    "\n",
    "def load_npy_files(npy_dir):\n",
    "    \"\"\"Loads and sorts .npy files from a directory into a 3D numpy array.\"\"\"\n",
    "    files = [os.path.join(npy_dir, f) for f in sorted(os.listdir(npy_dir)) if f.endswith('.npy')]\n",
    "    volumes = [np.load(f) for f in files]\n",
    "    volume = np.stack(volumes)\n",
    "    return volume\n",
    "\n",
    "def create_animation(volume):\n",
    "    \"\"\"Creates an animation from a 3D numpy array.\"\"\"\n",
    "    ims = []\n",
    "    fig, ax = plt.subplots()  # Create a figure and a set of subplots\n",
    "\n",
    "    # Iterate through each slice of the volume\n",
    "    for i in range(volume.shape[0]):  # Correctly iterate over the first dimension\n",
    "        im = ax.imshow(volume[i], animated=True, cmap='gray')\n",
    "        ims.append([im])\n",
    "\n",
    "    ani = animation.ArtistAnimation(fig, ims, interval=50)  # Adjust interval as needed\n",
    "    plt.close(fig)  # Close the figure to prevent it from displaying statically\n",
    "    return ani\n",
    "\n",
    "def main(npy_dir):\n",
    "    volume = load_npy_files(npy_dir)\n",
    "    ani = create_animation(volume)\n",
    "    # Convert the animation to an HTML5 video and display it within the notebook\n",
    "    return HTML(ani.to_html5_video())\n",
    "\n",
    "if __name__ == \"__main__\":\n",
    "    npy_dir = 'data/processed/resampled'  # Adjust as necessary\n",
    "    display(main(npy_dir))\n"
   ]
  },
  {
   "cell_type": "code",
   "execution_count": null,
   "metadata": {},
   "outputs": [],
   "source": []
  }
 ],
 "metadata": {
  "kernelspec": {
   "display_name": "venv",
   "language": "python",
   "name": "python3"
  },
  "language_info": {
   "codemirror_mode": {
    "name": "ipython",
    "version": 3
   },
   "file_extension": ".py",
   "mimetype": "text/x-python",
   "name": "python",
   "nbconvert_exporter": "python",
   "pygments_lexer": "ipython3",
   "version": "3.8.10"
  }
 },
 "nbformat": 4,
 "nbformat_minor": 2
}
