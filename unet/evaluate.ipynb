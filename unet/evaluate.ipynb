{
 "cells": [
  {
   "cell_type": "code",
   "execution_count": 1,
   "metadata": {},
   "outputs": [],
   "source": [
    "import os\n",
    "os.environ['CUDA_LAUNCH_BLOCKING'] = \"1\"\n",
    "os.environ[\"CUDA_VISIBLE_DEVICES\"] = \"3\"\n",
    "\n",
    "\n"
   ]
  },
  {
   "cell_type": "code",
   "execution_count": 2,
   "metadata": {},
   "outputs": [
    {
     "name": "stderr",
     "output_type": "stream",
     "text": [
      "/home/r200025/my_dvc_project/venv/lib/python3.8/site-packages/tqdm/auto.py:21: TqdmWarning: IProgress not found. Please update jupyter and ipywidgets. See https://ipywidgets.readthedocs.io/en/stable/user_install.html\n",
      "  from .autonotebook import tqdm as notebook_tqdm\n"
     ]
    }
   ],
   "source": [
    "import torch\n",
    "from torch.utils.data import DataLoader\n",
    "from utils.data_loading import BasicDataset\n",
    "from evaluate import evaluate  # Import your evaluate function here\n",
    "from unet import UNet  # Adjust import if necessary\n",
    "\n",
    "def load_model(checkpoint_path, device):\n",
    "    model = UNet(n_channels=1, n_classes=2)  # Adjust n_channels and n_classes according to your setup\n",
    "    model.load_state_dict(torch.load(checkpoint_path, map_location=device))\n",
    "    model.to(device)\n",
    "    return model\n"
   ]
  },
  {
   "cell_type": "code",
   "execution_count": 2,
   "metadata": {},
   "outputs": [
    {
     "name": "stderr",
     "output_type": "stream",
     "text": [
      "                                                                        "
     ]
    },
    {
     "name": "stdout",
     "output_type": "stream",
     "text": [
      "Validation Dice Score: 0.5983133316040039\n"
     ]
    },
    {
     "name": "stderr",
     "output_type": "stream",
     "text": [
      "\r"
     ]
    }
   ],
   "source": [
    "#Evaluate model train on data with brain extraction\n",
    "device = torch.device(\"cuda\" if torch.cuda.is_available() else \"cpu\")\n",
    "checkpoint_path = \"./checkpoints_bet_alt_with_brain_extraction/checkpoint_epoch20.pth\"  # path to checkpoint file\n",
    "model = load_model(checkpoint_path, device)\n",
    "\n",
    "# Load the validation dataset\n",
    "val_dataset = BasicDataset('../data/processed/sorted_imgs/test', '../data/processed/sorted_masks/test', 1.0)  # path to img and masks\n",
    "val_loader = DataLoader(val_dataset, batch_size=1, shuffle=False, num_workers=4, pin_memory=True)\n",
    "\n",
    "# Evaluate\n",
    "model.eval()\n",
    "dice_score = evaluate(model, val_loader, device)\n",
    "print(f\"Validation Dice Score: {dice_score}\")"
   ]
  },
  {
   "cell_type": "code",
   "execution_count": 4,
   "metadata": {},
   "outputs": [
    {
     "name": "stderr",
     "output_type": "stream",
     "text": [
      "                                                                        "
     ]
    },
    {
     "name": "stdout",
     "output_type": "stream",
     "text": [
      "Validation Dice Score: 0.557639479637146\n"
     ]
    },
    {
     "name": "stderr",
     "output_type": "stream",
     "text": [
      "\r"
     ]
    }
   ],
   "source": [
    "#Evaluate model train on data without brain extraction\n",
    "device = torch.device(\"cuda\" if torch.cuda.is_available() else \"cpu\")\n",
    "checkpoint_path = \"./checkpoints_bet_alt_without_brain_extraction/checkpoint_epoch20.pth\"  # path to checkpoint file\n",
    "model = load_model(checkpoint_path, device)\n",
    "\n",
    "# Load the validation dataset\n",
    "val_dataset = BasicDataset('../data/processed/sorted_imgs_no_brain_extraction/test', '../data/processed/sorted_masks/test', 1.0)  # path to img and masks\n",
    "val_loader = DataLoader(val_dataset, batch_size=1, shuffle=False, num_workers=4, pin_memory=True)\n",
    "\n",
    "# Evaluate\n",
    "model.eval()\n",
    "dice_score = evaluate(model, val_loader, device)\n",
    "print(f\"Validation Dice Score: {dice_score}\")"
   ]
  },
  {
   "cell_type": "code",
   "execution_count": 3,
   "metadata": {},
   "outputs": [
    {
     "name": "stderr",
     "output_type": "stream",
     "text": [
      "                                                                           "
     ]
    },
    {
     "name": "stdout",
     "output_type": "stream",
     "text": [
      "Validation Dice Score: 0.3084115982055664\n"
     ]
    },
    {
     "name": "stderr",
     "output_type": "stream",
     "text": [
      "\r"
     ]
    }
   ],
   "source": [
    "\n",
    "#Evaluate model that was trained on data with brain extraction using oasis data \n",
    "device = torch.device(\"cuda\" if torch.cuda.is_available() else \"cpu\")\n",
    "checkpoint_path = \"./checkpoints_bet_alt_with_brain_extraction/checkpoint_epoch20.pth\"  # path to checkpoint file\n",
    "model = load_model(checkpoint_path, device)\n",
    "\n",
    "# Load the validation dataset\n",
    "val_dataset = BasicDataset('../data/oasis/ct_norm_resized', '../data/oasis/gm_resized', 1.0)  # path to img and masks\n",
    "val_loader = DataLoader(val_dataset, batch_size=1, shuffle=False, num_workers=4, pin_memory=True)\n",
    "\n",
    "# Evaluate\n",
    "model.eval()\n",
    "dice_score = evaluate(model, val_loader, device)\n",
    "print(f\"Validation Dice Score: {dice_score}\")"
   ]
  },
  {
   "cell_type": "code",
   "execution_count": null,
   "metadata": {},
   "outputs": [],
   "source": []
  }
 ],
 "metadata": {
  "kernelspec": {
   "display_name": "Python venv",
   "language": "python",
   "name": "venv"
  },
  "language_info": {
   "codemirror_mode": {
    "name": "ipython",
    "version": 3
   },
   "file_extension": ".py",
   "mimetype": "text/x-python",
   "name": "python",
   "nbconvert_exporter": "python",
   "pygments_lexer": "ipython3",
   "version": "3.8.10"
  }
 },
 "nbformat": 4,
 "nbformat_minor": 2
}
